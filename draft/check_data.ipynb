{
 "cells": [
  {
   "cell_type": "code",
   "execution_count": 2,
   "metadata": {},
   "outputs": [],
   "source": [
    "import torch\n",
    "import torch.nn as nn\n",
    "import numpy as np\n",
    "import pickle\n",
    "import torch\n",
    "import scanpy as sc\n",
    "from sklearn.preprocessing import MinMaxScaler\n",
    "from itertools import combinations\n",
    "from tqdm import tqdm\n",
    "import matplotlib.pyplot as plt\n",
    "import geomloss\n",
    "import sys\n",
    "import argparse"
   ]
  },
  {
   "cell_type": "code",
   "execution_count": 1,
   "metadata": {},
   "outputs": [],
   "source": [
    "dataset_name = 'DR'\n",
    "# dataset_name = 'EB'\n",
    "# dataset_name = 'MB'\n",
    "# dataset_name = 'MP'\n",
    "# dataset_name = 'ZB'\n"
   ]
  },
  {
   "cell_type": "code",
   "execution_count": 3,
   "metadata": {},
   "outputs": [],
   "source": [
    "dataset_path = (\n",
    "    f'/home/hanyuji/Results/VAE_result/data_latent/{dataset_name}_latent_50.pkl'\n",
    ")\n",
    "\n",
    "with open(dataset_path, 'rb') as f:\n",
    "    data_list = pickle.load(f)"
   ]
  },
  {
   "cell_type": "code",
   "execution_count": 4,
   "metadata": {},
   "outputs": [
    {
     "name": "stdout",
     "output_type": "stream",
     "text": [
      "0 (311, 50)\n",
      "1 (200, 50)\n",
      "2 (1158, 50)\n",
      "3 (1467, 50)\n",
      "4 (5716, 50)\n",
      "5 (1026, 50)\n",
      "6 (4101, 50)\n",
      "7 (6178, 50)\n",
      "8 (5442, 50)\n",
      "9 (7114, 50)\n",
      "10 (1614, 50)\n",
      "11 (4404, 50)\n"
     ]
    }
   ],
   "source": [
    "for i,item in enumerate(data_list):\n",
    "    print(i,item.shape)"
   ]
  },
  {
   "cell_type": "code",
   "execution_count": null,
   "metadata": {},
   "outputs": [],
   "source": []
  }
 ],
 "metadata": {
  "kernelspec": {
   "display_name": "DYffusion",
   "language": "python",
   "name": "python3"
  },
  "language_info": {
   "codemirror_mode": {
    "name": "ipython",
    "version": 3
   },
   "file_extension": ".py",
   "mimetype": "text/x-python",
   "name": "python",
   "nbconvert_exporter": "python",
   "pygments_lexer": "ipython3",
   "version": "3.9.19"
  }
 },
 "nbformat": 4,
 "nbformat_minor": 2
}
